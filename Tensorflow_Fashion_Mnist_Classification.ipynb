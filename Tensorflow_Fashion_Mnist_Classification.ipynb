{
  "nbformat": 4,
  "nbformat_minor": 0,
  "metadata": {
    "colab": {
      "provenance": [],
      "toc_visible": true,
      "authorship_tag": "ABX9TyOfeceZNR7k5spQiGxRsxDA",
      "include_colab_link": true
    },
    "kernelspec": {
      "name": "python3",
      "display_name": "Python 3"
    },
    "language_info": {
      "name": "python"
    }
  },
  "cells": [
    {
      "cell_type": "markdown",
      "metadata": {
        "id": "view-in-github",
        "colab_type": "text"
      },
      "source": [
        "<a href=\"https://colab.research.google.com/github/mazdakdev/AI-Bootcamp/blob/main/Tensorflow_Fashion_Mnist_Classification.ipynb\" target=\"_parent\"><img src=\"https://colab.research.google.com/assets/colab-badge.svg\" alt=\"Open In Colab\"/></a>"
      ]
    },
    {
      "cell_type": "code",
      "execution_count": 2,
      "metadata": {
        "id": "ITMpLinvLp3N"
      },
      "outputs": [],
      "source": [
        "import tensorflow as tf"
      ]
    },
    {
      "cell_type": "markdown",
      "source": [
        "### Downloading Dataset\n",
        "Fashion-MNIST is a dataset of Zalando's article images consisting of a training set of 60,000 examples and a test set of 10,000 examples. Each example is a 28x28 grayscale image, associated with a label from 10 classes.\n",
        "\n"
      ],
      "metadata": {
        "id": "5FRcq_sqUSng"
      }
    },
    {
      "cell_type": "code",
      "source": [
        "fmnist = tf.keras.datasets.fashion_mnist.load_data()"
      ],
      "metadata": {
        "id": "LWm8AY2rRQ_9",
        "colab": {
          "base_uri": "https://localhost:8080/"
        },
        "outputId": "bf557856-aa18-4765-e4bb-5d9deb568b92"
      },
      "execution_count": 3,
      "outputs": [
        {
          "output_type": "stream",
          "name": "stdout",
          "text": [
            "Downloading data from https://storage.googleapis.com/tensorflow/tf-keras-datasets/train-labels-idx1-ubyte.gz\n",
            "29515/29515 [==============================] - 0s 0us/step\n",
            "Downloading data from https://storage.googleapis.com/tensorflow/tf-keras-datasets/train-images-idx3-ubyte.gz\n",
            "26421880/26421880 [==============================] - 0s 0us/step\n",
            "Downloading data from https://storage.googleapis.com/tensorflow/tf-keras-datasets/t10k-labels-idx1-ubyte.gz\n",
            "5148/5148 [==============================] - 0s 0us/step\n",
            "Downloading data from https://storage.googleapis.com/tensorflow/tf-keras-datasets/t10k-images-idx3-ubyte.gz\n",
            "4422102/4422102 [==============================] - 0s 0us/step\n"
          ]
        }
      ]
    },
    {
      "cell_type": "markdown",
      "source": [
        "#### Train/Test/Validation\n",
        "\n",
        "*   Train : 55000 Data\n",
        "*   Test: 10000 Data\n",
        "*   Validation: 5000 Data\n",
        "\n",
        "\n"
      ],
      "metadata": {
        "id": "GVPAdftKUajV"
      }
    },
    {
      "cell_type": "code",
      "source": [
        "(X_train_validation, y_train_validation), (X_test, y_test) = fmnist"
      ],
      "metadata": {
        "id": "QEMAd6_gR03s"
      },
      "execution_count": 4,
      "outputs": []
    },
    {
      "cell_type": "code",
      "source": [
        "X_train, y_train = X_train_validation[:-5000], y_train_validation[:-5000]\n",
        "X_validation, y_validation = X_train_validation[-5000:], y_train_validation[-5000:]"
      ],
      "metadata": {
        "id": "J6KjbpgkSD_K"
      },
      "execution_count": 5,
      "outputs": []
    },
    {
      "cell_type": "code",
      "source": [
        "X_train, X_valid, X_test = X_train/255, X_validation/255, X_test/255"
      ],
      "metadata": {
        "id": "BV4kEJFsTb8y"
      },
      "execution_count": 6,
      "outputs": []
    },
    {
      "cell_type": "code",
      "source": [
        "from tensorflow import keras\n",
        "from keras import layers as ly\n",
        "\n",
        "model = keras.Sequential()\n",
        "model.add(ly.Input(shape=[28, 28]))\n",
        "model.add(ly.Flatten())\n",
        "model.add(ly.Dense(100, activation=\"relu\"))\n",
        "model.add(ly.Dense(100, activation=\"relu\"))\n",
        "model.add(ly.Dense(100, activation=\"relu\"))\n",
        "model.add(ly.Dense(10, activation=\"softmax\"))"
      ],
      "metadata": {
        "id": "I2ATdCR7UkUi"
      },
      "execution_count": 7,
      "outputs": []
    },
    {
      "cell_type": "code",
      "source": [
        "model.layers[1].get_weights()"
      ],
      "metadata": {
        "colab": {
          "base_uri": "https://localhost:8080/"
        },
        "id": "rQd8Kv9jXQhP",
        "outputId": "e99aa804-a661-4021-a6c0-7954c847ae4e"
      },
      "execution_count": 8,
      "outputs": [
        {
          "output_type": "execute_result",
          "data": {
            "text/plain": [
              "[array([[-0.03781221, -0.07071225,  0.01216424, ..., -0.01371244,\n",
              "          0.05107437,  0.01710454],\n",
              "        [ 0.07967365, -0.03189553,  0.04227684, ..., -0.03838099,\n",
              "          0.03299464, -0.00092935],\n",
              "        [ 0.00295646,  0.06890377, -0.06057563, ..., -0.07209859,\n",
              "          0.07718627,  0.06114943],\n",
              "        ...,\n",
              "        [ 0.04737118,  0.02380785,  0.0473948 , ..., -0.06216002,\n",
              "          0.0163663 ,  0.0037889 ],\n",
              "        [-0.03773647,  0.03814179, -0.01783969, ..., -0.06442286,\n",
              "          0.02024252, -0.00100961],\n",
              "        [-0.02077924,  0.00751349,  0.04496579, ..., -0.02133105,\n",
              "          0.06310031, -0.00036032]], dtype=float32),\n",
              " array([0., 0., 0., 0., 0., 0., 0., 0., 0., 0., 0., 0., 0., 0., 0., 0., 0.,\n",
              "        0., 0., 0., 0., 0., 0., 0., 0., 0., 0., 0., 0., 0., 0., 0., 0., 0.,\n",
              "        0., 0., 0., 0., 0., 0., 0., 0., 0., 0., 0., 0., 0., 0., 0., 0., 0.,\n",
              "        0., 0., 0., 0., 0., 0., 0., 0., 0., 0., 0., 0., 0., 0., 0., 0., 0.,\n",
              "        0., 0., 0., 0., 0., 0., 0., 0., 0., 0., 0., 0., 0., 0., 0., 0., 0.,\n",
              "        0., 0., 0., 0., 0., 0., 0., 0., 0., 0., 0., 0., 0., 0., 0.],\n",
              "       dtype=float32)]"
            ]
          },
          "metadata": {},
          "execution_count": 8
        }
      ]
    },
    {
      "cell_type": "code",
      "source": [
        "model.compile(loss=\"sparse_categorical_crossentropy\" , optimizer=\"sgd\", metrics=[\"accuracy\"])"
      ],
      "metadata": {
        "id": "rl23RG6JYgvk"
      },
      "execution_count": 9,
      "outputs": []
    },
    {
      "cell_type": "code",
      "source": [
        "history = model.fit(X_train, y_train, epochs=15,\n",
        "          validation_data=(X_validation, y_validation))"
      ],
      "metadata": {
        "colab": {
          "base_uri": "https://localhost:8080/"
        },
        "id": "vAnfG2_3eLpw",
        "outputId": "d182a7dc-3259-44ca-d3b0-f0a939db3256"
      },
      "execution_count": 10,
      "outputs": [
        {
          "output_type": "stream",
          "name": "stdout",
          "text": [
            "Epoch 1/15\n",
            "1719/1719 [==============================] - 15s 8ms/step - loss: 0.8062 - accuracy: 0.7188 - val_loss: 66.6388 - val_accuracy: 0.7882\n",
            "Epoch 2/15\n",
            "1719/1719 [==============================] - 6s 4ms/step - loss: 0.5080 - accuracy: 0.8227 - val_loss: 69.4364 - val_accuracy: 0.8074\n",
            "Epoch 3/15\n",
            "1719/1719 [==============================] - 5s 3ms/step - loss: 0.4512 - accuracy: 0.8422 - val_loss: 66.8206 - val_accuracy: 0.8142\n",
            "Epoch 4/15\n",
            "1719/1719 [==============================] - 7s 4ms/step - loss: 0.4197 - accuracy: 0.8518 - val_loss: 84.8981 - val_accuracy: 0.8082\n",
            "Epoch 5/15\n",
            "1719/1719 [==============================] - 5s 3ms/step - loss: 0.3980 - accuracy: 0.8598 - val_loss: 70.0683 - val_accuracy: 0.8222\n",
            "Epoch 6/15\n",
            "1719/1719 [==============================] - 6s 4ms/step - loss: 0.3799 - accuracy: 0.8657 - val_loss: 69.0733 - val_accuracy: 0.8248\n",
            "Epoch 7/15\n",
            "1719/1719 [==============================] - 6s 3ms/step - loss: 0.3652 - accuracy: 0.8691 - val_loss: 72.8064 - val_accuracy: 0.8128\n",
            "Epoch 8/15\n",
            "1719/1719 [==============================] - 6s 3ms/step - loss: 0.3540 - accuracy: 0.8733 - val_loss: 73.5020 - val_accuracy: 0.8220\n",
            "Epoch 9/15\n",
            "1719/1719 [==============================] - 7s 4ms/step - loss: 0.3420 - accuracy: 0.8771 - val_loss: 57.5529 - val_accuracy: 0.8420\n",
            "Epoch 10/15\n",
            "1719/1719 [==============================] - 6s 3ms/step - loss: 0.3330 - accuracy: 0.8806 - val_loss: 61.0357 - val_accuracy: 0.8444\n",
            "Epoch 11/15\n",
            "1719/1719 [==============================] - 6s 3ms/step - loss: 0.3246 - accuracy: 0.8829 - val_loss: 56.8612 - val_accuracy: 0.8514\n",
            "Epoch 12/15\n",
            "1719/1719 [==============================] - 5s 3ms/step - loss: 0.3153 - accuracy: 0.8862 - val_loss: 52.4610 - val_accuracy: 0.8600\n",
            "Epoch 13/15\n",
            "1719/1719 [==============================] - 6s 4ms/step - loss: 0.3086 - accuracy: 0.8870 - val_loss: 60.3270 - val_accuracy: 0.8428\n",
            "Epoch 14/15\n",
            "1719/1719 [==============================] - 7s 4ms/step - loss: 0.3026 - accuracy: 0.8892 - val_loss: 60.7450 - val_accuracy: 0.8376\n",
            "Epoch 15/15\n",
            "1719/1719 [==============================] - 6s 4ms/step - loss: 0.2967 - accuracy: 0.8925 - val_loss: 77.7808 - val_accuracy: 0.8172\n"
          ]
        }
      ]
    },
    {
      "cell_type": "code",
      "source": [
        "import matplotlib.pyplot as plt\n",
        "import numpy as np\n",
        "plt.plot(np.linspace(1,15,15), history.history[\"val_accuracy\"])"
      ],
      "metadata": {
        "colab": {
          "base_uri": "https://localhost:8080/",
          "height": 283
        },
        "id": "8rtc10DZ2tOw",
        "outputId": "2130f3dd-f57e-4d15-d80b-466f13dfa955"
      },
      "execution_count": 11,
      "outputs": [
        {
          "output_type": "execute_result",
          "data": {
            "text/plain": [
              "[<matplotlib.lines.Line2D at 0x7f2ff5ca80a0>]"
            ]
          },
          "metadata": {},
          "execution_count": 11
        },
        {
          "output_type": "display_data",
          "data": {
            "text/plain": [
              "<Figure size 432x288 with 1 Axes>"
            ],
            "image/png": "[encoded data removed]"
          },
          "metadata": {
            "needs_background": "light"
          }
        }
      ]
    },
    {
      "cell_type": "code",
      "source": [
        "model.evaluate(X_test, y_test)"
      ],
      "metadata": {
        "colab": {
          "base_uri": "https://localhost:8080/"
        },
        "id": "DOm0f6dy4jpf",
        "outputId": "b79a4339-34a3-443a-eb53-a410364c2148"
      },
      "execution_count": 12,
      "outputs": [
        {
          "output_type": "stream",
          "name": "stdout",
          "text": [
            "313/313 [==============================] - 1s 2ms/step - loss: 0.3930 - accuracy: 0.8578\n"
          ]
        },
        {
          "output_type": "execute_result",
          "data": {
            "text/plain": [
              "[0.39297711849212646, 0.8578000068664551]"
            ]
          },
          "metadata": {},
          "execution_count": 12
        }
      ]
    },
    {
      "cell_type": "code",
      "source": [
        "model.predict(X_test[:3]).argmax(axis=-1)"
      ],
      "metadata": {
        "colab": {
          "base_uri": "https://localhost:8080/"
        },
        "id": "nZHhU2y05NT7",
        "outputId": "5184e56d-b53a-4e65-eeed-33fe3ae87729"
      },
      "execution_count": 16,
      "outputs": [
        {
          "output_type": "stream",
          "name": "stdout",
          "text": [
            "1/1 [==============================] - 0s 74ms/step\n"
          ]
        },
        {
          "output_type": "execute_result",
          "data": {
            "text/plain": [
              "array([9, 2, 1])"
            ]
          },
          "metadata": {},
          "execution_count": 16
        }
      ]
    },
    {
      "cell_type": "code",
      "source": [
        "y_test[:3]"
      ],
      "metadata": {
        "colab": {
          "base_uri": "https://localhost:8080/"
        },
        "id": "y0pwLxj55v1a",
        "outputId": "734191bb-4025-4df3-c43e-0569716cae95"
      },
      "execution_count": 14,
      "outputs": [
        {
          "output_type": "execute_result",
          "data": {
            "text/plain": [
              "array([9, 2, 1], dtype=uint8)"
            ]
          },
          "metadata": {},
          "execution_count": 14
        }
      ]
    },
    {
      "cell_type": "code",
      "source": [],
      "metadata": {
        "id": "Y4tKUS896ZCz"
      },
      "execution_count": null,
      "outputs": []
    }
  ]
}